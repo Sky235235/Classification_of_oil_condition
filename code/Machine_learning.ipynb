{
 "cells": [
  {
   "cell_type": "code",
   "execution_count": 1,
   "metadata": {
    "collapsed": true,
    "pycharm": {
     "name": "#%%\n"
    }
   },
   "outputs": [
    {
     "data": {
      "text/plain": "'/mnt/d/데이터분석/Dacon/Classification_of_oil_condition'"
     },
     "execution_count": 1,
     "metadata": {},
     "output_type": "execute_result"
    }
   ],
   "source": [
    "import os\n",
    "os.chdir(\"/mnt/d/데이터분석/Dacon/Classification_of_oil_condition\")\n",
    "project_path = os.getcwd()\n",
    "project_path"
   ]
  },
  {
   "cell_type": "code",
   "execution_count": 2,
   "outputs": [],
   "source": [
    "import pandas as pd\n",
    "import numpy as np"
   ],
   "metadata": {
    "collapsed": false,
    "pycharm": {
     "name": "#%%\n"
    }
   }
  },
  {
   "cell_type": "markdown",
   "source": [
    "## 1. EDA"
   ],
   "metadata": {
    "collapsed": false,
    "pycharm": {
     "name": "#%% md\n"
    }
   }
  },
  {
   "cell_type": "code",
   "execution_count": 3,
   "outputs": [],
   "source": [
    "train_df = pd.read_csv('dataset/train.csv')\n",
    "test_df = pd.read_csv('dataset/test.csv')"
   ],
   "metadata": {
    "collapsed": false,
    "pycharm": {
     "name": "#%%\n"
    }
   }
  },
  {
   "cell_type": "code",
   "execution_count": 4,
   "outputs": [],
   "source": [
    "sel_col = test_df.columns.to_list()\n",
    "sel_col.append('Y_LABEL')"
   ],
   "metadata": {
    "collapsed": false,
    "pycharm": {
     "name": "#%%\n"
    }
   }
  },
  {
   "cell_type": "code",
   "execution_count": 5,
   "outputs": [
    {
     "data": {
      "text/plain": "                ID COMPONENT_ARBITRARY  ANONYMOUS_1  YEAR  ANONYMOUS_2  AG  \\\n0      TRAIN_00000          COMPONENT3         1486  2011          200   0   \n1      TRAIN_00001          COMPONENT2         1350  2021          375   0   \n2      TRAIN_00002          COMPONENT2         2415  2015          200   0   \n3      TRAIN_00003          COMPONENT3         7389  2010          200   0   \n4      TRAIN_00004          COMPONENT3         3954  2015          200   0   \n...            ...                 ...          ...   ...          ...  ..   \n14090  TRAIN_14090          COMPONENT3         1616  2014          200   0   \n14091  TRAIN_14091          COMPONENT1         2784  2013          200   0   \n14092  TRAIN_14092          COMPONENT3         1788  2008          550   0   \n14093  TRAIN_14093          COMPONENT2         2498  2009          550   0   \n14094  TRAIN_14094          COMPONENT2         1902  2012          200   0   \n\n       CO  CR   CU   FE  H2O  MN   MO  NI  PQINDEX  TI  V    V40    ZN  \\\n0       0  13   78  888  0.0  16    1   6     8504   5  0  154.0    75   \n1       0   0   31    2  0.0   0    0   0       19   0  0   44.0   652   \n2       0   1    2    4  0.0   0    0   0       17   0  0   72.6   412   \n3       0   0    1   37  0.0   1    0   0       44   0  0  133.3     7   \n4       0   0    0   71  0.0   0    0   0      217   0  0  133.1   128   \n...    ..  ..  ...  ...  ...  ..  ...  ..      ...  .. ..    ...   ...   \n14090   0   0    3   23  0.0   0    0   0       35   0  0  135.4    16   \n14091   0   0    2   12  0.0   0  224   0        9   0  0  117.5  1408   \n14092   0   4    7  415  0.0   7   10   1      645   0  0   54.0  1301   \n14093   0   0  170   19  0.0   0    1   0       11   0  0   44.3   652   \n14094   0   0  110   10  0.0   0    0   0       81   2  0   47.0   612   \n\n       Y_LABEL  \n0            0  \n1            0  \n2            1  \n3            0  \n4            0  \n...        ...  \n14090        0  \n14091        0  \n14092        0  \n14093        0  \n14094        0  \n\n[14095 rows x 20 columns]",
      "text/html": "<div>\n<style scoped>\n    .dataframe tbody tr th:only-of-type {\n        vertical-align: middle;\n    }\n\n    .dataframe tbody tr th {\n        vertical-align: top;\n    }\n\n    .dataframe thead th {\n        text-align: right;\n    }\n</style>\n<table border=\"1\" class=\"dataframe\">\n  <thead>\n    <tr style=\"text-align: right;\">\n      <th></th>\n      <th>ID</th>\n      <th>COMPONENT_ARBITRARY</th>\n      <th>ANONYMOUS_1</th>\n      <th>YEAR</th>\n      <th>ANONYMOUS_2</th>\n      <th>AG</th>\n      <th>CO</th>\n      <th>CR</th>\n      <th>CU</th>\n      <th>FE</th>\n      <th>H2O</th>\n      <th>MN</th>\n      <th>MO</th>\n      <th>NI</th>\n      <th>PQINDEX</th>\n      <th>TI</th>\n      <th>V</th>\n      <th>V40</th>\n      <th>ZN</th>\n      <th>Y_LABEL</th>\n    </tr>\n  </thead>\n  <tbody>\n    <tr>\n      <th>0</th>\n      <td>TRAIN_00000</td>\n      <td>COMPONENT3</td>\n      <td>1486</td>\n      <td>2011</td>\n      <td>200</td>\n      <td>0</td>\n      <td>0</td>\n      <td>13</td>\n      <td>78</td>\n      <td>888</td>\n      <td>0.0</td>\n      <td>16</td>\n      <td>1</td>\n      <td>6</td>\n      <td>8504</td>\n      <td>5</td>\n      <td>0</td>\n      <td>154.0</td>\n      <td>75</td>\n      <td>0</td>\n    </tr>\n    <tr>\n      <th>1</th>\n      <td>TRAIN_00001</td>\n      <td>COMPONENT2</td>\n      <td>1350</td>\n      <td>2021</td>\n      <td>375</td>\n      <td>0</td>\n      <td>0</td>\n      <td>0</td>\n      <td>31</td>\n      <td>2</td>\n      <td>0.0</td>\n      <td>0</td>\n      <td>0</td>\n      <td>0</td>\n      <td>19</td>\n      <td>0</td>\n      <td>0</td>\n      <td>44.0</td>\n      <td>652</td>\n      <td>0</td>\n    </tr>\n    <tr>\n      <th>2</th>\n      <td>TRAIN_00002</td>\n      <td>COMPONENT2</td>\n      <td>2415</td>\n      <td>2015</td>\n      <td>200</td>\n      <td>0</td>\n      <td>0</td>\n      <td>1</td>\n      <td>2</td>\n      <td>4</td>\n      <td>0.0</td>\n      <td>0</td>\n      <td>0</td>\n      <td>0</td>\n      <td>17</td>\n      <td>0</td>\n      <td>0</td>\n      <td>72.6</td>\n      <td>412</td>\n      <td>1</td>\n    </tr>\n    <tr>\n      <th>3</th>\n      <td>TRAIN_00003</td>\n      <td>COMPONENT3</td>\n      <td>7389</td>\n      <td>2010</td>\n      <td>200</td>\n      <td>0</td>\n      <td>0</td>\n      <td>0</td>\n      <td>1</td>\n      <td>37</td>\n      <td>0.0</td>\n      <td>1</td>\n      <td>0</td>\n      <td>0</td>\n      <td>44</td>\n      <td>0</td>\n      <td>0</td>\n      <td>133.3</td>\n      <td>7</td>\n      <td>0</td>\n    </tr>\n    <tr>\n      <th>4</th>\n      <td>TRAIN_00004</td>\n      <td>COMPONENT3</td>\n      <td>3954</td>\n      <td>2015</td>\n      <td>200</td>\n      <td>0</td>\n      <td>0</td>\n      <td>0</td>\n      <td>0</td>\n      <td>71</td>\n      <td>0.0</td>\n      <td>0</td>\n      <td>0</td>\n      <td>0</td>\n      <td>217</td>\n      <td>0</td>\n      <td>0</td>\n      <td>133.1</td>\n      <td>128</td>\n      <td>0</td>\n    </tr>\n    <tr>\n      <th>...</th>\n      <td>...</td>\n      <td>...</td>\n      <td>...</td>\n      <td>...</td>\n      <td>...</td>\n      <td>...</td>\n      <td>...</td>\n      <td>...</td>\n      <td>...</td>\n      <td>...</td>\n      <td>...</td>\n      <td>...</td>\n      <td>...</td>\n      <td>...</td>\n      <td>...</td>\n      <td>...</td>\n      <td>...</td>\n      <td>...</td>\n      <td>...</td>\n      <td>...</td>\n    </tr>\n    <tr>\n      <th>14090</th>\n      <td>TRAIN_14090</td>\n      <td>COMPONENT3</td>\n      <td>1616</td>\n      <td>2014</td>\n      <td>200</td>\n      <td>0</td>\n      <td>0</td>\n      <td>0</td>\n      <td>3</td>\n      <td>23</td>\n      <td>0.0</td>\n      <td>0</td>\n      <td>0</td>\n      <td>0</td>\n      <td>35</td>\n      <td>0</td>\n      <td>0</td>\n      <td>135.4</td>\n      <td>16</td>\n      <td>0</td>\n    </tr>\n    <tr>\n      <th>14091</th>\n      <td>TRAIN_14091</td>\n      <td>COMPONENT1</td>\n      <td>2784</td>\n      <td>2013</td>\n      <td>200</td>\n      <td>0</td>\n      <td>0</td>\n      <td>0</td>\n      <td>2</td>\n      <td>12</td>\n      <td>0.0</td>\n      <td>0</td>\n      <td>224</td>\n      <td>0</td>\n      <td>9</td>\n      <td>0</td>\n      <td>0</td>\n      <td>117.5</td>\n      <td>1408</td>\n      <td>0</td>\n    </tr>\n    <tr>\n      <th>14092</th>\n      <td>TRAIN_14092</td>\n      <td>COMPONENT3</td>\n      <td>1788</td>\n      <td>2008</td>\n      <td>550</td>\n      <td>0</td>\n      <td>0</td>\n      <td>4</td>\n      <td>7</td>\n      <td>415</td>\n      <td>0.0</td>\n      <td>7</td>\n      <td>10</td>\n      <td>1</td>\n      <td>645</td>\n      <td>0</td>\n      <td>0</td>\n      <td>54.0</td>\n      <td>1301</td>\n      <td>0</td>\n    </tr>\n    <tr>\n      <th>14093</th>\n      <td>TRAIN_14093</td>\n      <td>COMPONENT2</td>\n      <td>2498</td>\n      <td>2009</td>\n      <td>550</td>\n      <td>0</td>\n      <td>0</td>\n      <td>0</td>\n      <td>170</td>\n      <td>19</td>\n      <td>0.0</td>\n      <td>0</td>\n      <td>1</td>\n      <td>0</td>\n      <td>11</td>\n      <td>0</td>\n      <td>0</td>\n      <td>44.3</td>\n      <td>652</td>\n      <td>0</td>\n    </tr>\n    <tr>\n      <th>14094</th>\n      <td>TRAIN_14094</td>\n      <td>COMPONENT2</td>\n      <td>1902</td>\n      <td>2012</td>\n      <td>200</td>\n      <td>0</td>\n      <td>0</td>\n      <td>0</td>\n      <td>110</td>\n      <td>10</td>\n      <td>0.0</td>\n      <td>0</td>\n      <td>0</td>\n      <td>0</td>\n      <td>81</td>\n      <td>2</td>\n      <td>0</td>\n      <td>47.0</td>\n      <td>612</td>\n      <td>0</td>\n    </tr>\n  </tbody>\n</table>\n<p>14095 rows × 20 columns</p>\n</div>"
     },
     "execution_count": 5,
     "metadata": {},
     "output_type": "execute_result"
    }
   ],
   "source": [
    "eda_df = train_df[sel_col]\n",
    "del train_df\n",
    "\n",
    "import gc\n",
    "gc.collect()\n",
    "\n",
    "eda_df"
   ],
   "metadata": {
    "collapsed": false,
    "pycharm": {
     "name": "#%%\n"
    }
   }
  },
  {
   "cell_type": "markdown",
   "source": [
    "#### 기초 통계"
   ],
   "metadata": {
    "collapsed": false,
    "pycharm": {
     "name": "#%% md\n"
    }
   }
  },
  {
   "cell_type": "code",
   "execution_count": 7,
   "outputs": [
    {
     "data": {
      "text/plain": "COMPONENT3    7050\nCOMPONENT1    3890\nCOMPONENT2    2316\nCOMPONENT4     839\nName: COMPONENT_ARBITRARY, dtype: int64"
     },
     "execution_count": 7,
     "metadata": {},
     "output_type": "execute_result"
    }
   ],
   "source": [
    "eda_df['COMPONENT_ARBITRARY'].value_counts()"
   ],
   "metadata": {
    "collapsed": false,
    "pycharm": {
     "name": "#%%\n"
    }
   }
  },
  {
   "cell_type": "code",
   "execution_count": 6,
   "outputs": [
    {
     "data": {
      "text/plain": "               count         mean          std     min     25%     50%  \\\nANONYMOUS_1  14095.0  3146.082937  4216.089809  1000.0  1655.0  2227.0   \nYEAR         14095.0  2013.652501     3.964758  2007.0  2010.0  2014.0   \nANONYMOUS_2  14095.0   387.416885   550.016073   200.0   200.0   200.0   \nAG           14095.0     0.025825     0.171926     0.0     0.0     0.0   \nCO           14095.0     0.028166     0.314249     0.0     0.0     0.0   \nCR           14095.0     3.299468    28.595510     0.0     0.0     1.0   \nCU           14095.0    34.560624   128.958953     0.0     1.0     4.0   \nFE           14095.0   178.169280   533.208976     0.0    14.0    41.0   \nH2O          14095.0     0.033650     0.809162     0.0     0.0     0.0   \nMN           14095.0     2.787939    11.131836     0.0     0.0     1.0   \nMO           14095.0    23.992409    59.833922     0.0     0.0     1.0   \nNI           14095.0     0.730117     3.806716     0.0     0.0     0.0   \nPQINDEX      14095.0   415.159631  1528.191012     0.0    12.0    29.0   \nTI           14095.0     0.707911     6.897579     0.0     0.0     0.0   \nV            14095.0     0.050656     0.475438     0.0     0.0     0.0   \nV40          14095.0   109.355815    49.612379     2.9    71.8   111.3   \nZN           14095.0   588.646825   531.743393     0.0    37.0   520.0   \nY_LABEL      14095.0     0.085349     0.279411     0.0     0.0     0.0   \n\n                75%       max  \nANONYMOUS_1  3797.0  294451.0  \nYEAR         2017.0    2022.0  \nANONYMOUS_2   410.0    9650.0  \nAG              0.0       3.0  \nCO              0.0      27.0  \nCR              3.0    2398.0  \nCU             17.0    5701.0  \nFE            139.0   31706.0  \nH2O             0.0      52.7  \nMN              2.0     877.0  \nMO              7.0     419.0  \nNI              0.0     176.0  \nPQINDEX       181.0   56761.0  \nTI              0.0     403.0  \nV               0.0      17.0  \nV40           137.2    2840.5  \nZN           1119.0    2132.0  \nY_LABEL         0.0       1.0  ",
      "text/html": "<div>\n<style scoped>\n    .dataframe tbody tr th:only-of-type {\n        vertical-align: middle;\n    }\n\n    .dataframe tbody tr th {\n        vertical-align: top;\n    }\n\n    .dataframe thead th {\n        text-align: right;\n    }\n</style>\n<table border=\"1\" class=\"dataframe\">\n  <thead>\n    <tr style=\"text-align: right;\">\n      <th></th>\n      <th>count</th>\n      <th>mean</th>\n      <th>std</th>\n      <th>min</th>\n      <th>25%</th>\n      <th>50%</th>\n      <th>75%</th>\n      <th>max</th>\n    </tr>\n  </thead>\n  <tbody>\n    <tr>\n      <th>ANONYMOUS_1</th>\n      <td>14095.0</td>\n      <td>3146.082937</td>\n      <td>4216.089809</td>\n      <td>1000.0</td>\n      <td>1655.0</td>\n      <td>2227.0</td>\n      <td>3797.0</td>\n      <td>294451.0</td>\n    </tr>\n    <tr>\n      <th>YEAR</th>\n      <td>14095.0</td>\n      <td>2013.652501</td>\n      <td>3.964758</td>\n      <td>2007.0</td>\n      <td>2010.0</td>\n      <td>2014.0</td>\n      <td>2017.0</td>\n      <td>2022.0</td>\n    </tr>\n    <tr>\n      <th>ANONYMOUS_2</th>\n      <td>14095.0</td>\n      <td>387.416885</td>\n      <td>550.016073</td>\n      <td>200.0</td>\n      <td>200.0</td>\n      <td>200.0</td>\n      <td>410.0</td>\n      <td>9650.0</td>\n    </tr>\n    <tr>\n      <th>AG</th>\n      <td>14095.0</td>\n      <td>0.025825</td>\n      <td>0.171926</td>\n      <td>0.0</td>\n      <td>0.0</td>\n      <td>0.0</td>\n      <td>0.0</td>\n      <td>3.0</td>\n    </tr>\n    <tr>\n      <th>CO</th>\n      <td>14095.0</td>\n      <td>0.028166</td>\n      <td>0.314249</td>\n      <td>0.0</td>\n      <td>0.0</td>\n      <td>0.0</td>\n      <td>0.0</td>\n      <td>27.0</td>\n    </tr>\n    <tr>\n      <th>CR</th>\n      <td>14095.0</td>\n      <td>3.299468</td>\n      <td>28.595510</td>\n      <td>0.0</td>\n      <td>0.0</td>\n      <td>1.0</td>\n      <td>3.0</td>\n      <td>2398.0</td>\n    </tr>\n    <tr>\n      <th>CU</th>\n      <td>14095.0</td>\n      <td>34.560624</td>\n      <td>128.958953</td>\n      <td>0.0</td>\n      <td>1.0</td>\n      <td>4.0</td>\n      <td>17.0</td>\n      <td>5701.0</td>\n    </tr>\n    <tr>\n      <th>FE</th>\n      <td>14095.0</td>\n      <td>178.169280</td>\n      <td>533.208976</td>\n      <td>0.0</td>\n      <td>14.0</td>\n      <td>41.0</td>\n      <td>139.0</td>\n      <td>31706.0</td>\n    </tr>\n    <tr>\n      <th>H2O</th>\n      <td>14095.0</td>\n      <td>0.033650</td>\n      <td>0.809162</td>\n      <td>0.0</td>\n      <td>0.0</td>\n      <td>0.0</td>\n      <td>0.0</td>\n      <td>52.7</td>\n    </tr>\n    <tr>\n      <th>MN</th>\n      <td>14095.0</td>\n      <td>2.787939</td>\n      <td>11.131836</td>\n      <td>0.0</td>\n      <td>0.0</td>\n      <td>1.0</td>\n      <td>2.0</td>\n      <td>877.0</td>\n    </tr>\n    <tr>\n      <th>MO</th>\n      <td>14095.0</td>\n      <td>23.992409</td>\n      <td>59.833922</td>\n      <td>0.0</td>\n      <td>0.0</td>\n      <td>1.0</td>\n      <td>7.0</td>\n      <td>419.0</td>\n    </tr>\n    <tr>\n      <th>NI</th>\n      <td>14095.0</td>\n      <td>0.730117</td>\n      <td>3.806716</td>\n      <td>0.0</td>\n      <td>0.0</td>\n      <td>0.0</td>\n      <td>0.0</td>\n      <td>176.0</td>\n    </tr>\n    <tr>\n      <th>PQINDEX</th>\n      <td>14095.0</td>\n      <td>415.159631</td>\n      <td>1528.191012</td>\n      <td>0.0</td>\n      <td>12.0</td>\n      <td>29.0</td>\n      <td>181.0</td>\n      <td>56761.0</td>\n    </tr>\n    <tr>\n      <th>TI</th>\n      <td>14095.0</td>\n      <td>0.707911</td>\n      <td>6.897579</td>\n      <td>0.0</td>\n      <td>0.0</td>\n      <td>0.0</td>\n      <td>0.0</td>\n      <td>403.0</td>\n    </tr>\n    <tr>\n      <th>V</th>\n      <td>14095.0</td>\n      <td>0.050656</td>\n      <td>0.475438</td>\n      <td>0.0</td>\n      <td>0.0</td>\n      <td>0.0</td>\n      <td>0.0</td>\n      <td>17.0</td>\n    </tr>\n    <tr>\n      <th>V40</th>\n      <td>14095.0</td>\n      <td>109.355815</td>\n      <td>49.612379</td>\n      <td>2.9</td>\n      <td>71.8</td>\n      <td>111.3</td>\n      <td>137.2</td>\n      <td>2840.5</td>\n    </tr>\n    <tr>\n      <th>ZN</th>\n      <td>14095.0</td>\n      <td>588.646825</td>\n      <td>531.743393</td>\n      <td>0.0</td>\n      <td>37.0</td>\n      <td>520.0</td>\n      <td>1119.0</td>\n      <td>2132.0</td>\n    </tr>\n    <tr>\n      <th>Y_LABEL</th>\n      <td>14095.0</td>\n      <td>0.085349</td>\n      <td>0.279411</td>\n      <td>0.0</td>\n      <td>0.0</td>\n      <td>0.0</td>\n      <td>0.0</td>\n      <td>1.0</td>\n    </tr>\n  </tbody>\n</table>\n</div>"
     },
     "execution_count": 6,
     "metadata": {},
     "output_type": "execute_result"
    }
   ],
   "source": [
    "eda_df.describe().T"
   ],
   "metadata": {
    "collapsed": false,
    "pycharm": {
     "name": "#%%\n"
    }
   }
  },
  {
   "cell_type": "code",
   "execution_count": 21,
   "outputs": [
    {
     "data": {
      "text/plain": "0    12892\n1     1203\nName: Y_LABEL, dtype: int64"
     },
     "execution_count": 21,
     "metadata": {},
     "output_type": "execute_result"
    }
   ],
   "source": [
    "eda_df['Y_LABEL'].value_counts() ## 데이터가 imblance 함 -> 오버 샘플링 필요"
   ],
   "metadata": {
    "collapsed": false,
    "pycharm": {
     "name": "#%%\n"
    }
   }
  },
  {
   "cell_type": "markdown",
   "source": [
    "### 각 피쳐 분포 확인"
   ],
   "metadata": {
    "collapsed": false,
    "pycharm": {
     "name": "#%% md\n"
    }
   }
  },
  {
   "cell_type": "code",
   "execution_count": 10,
   "outputs": [],
   "source": [
    "import matplotlib\n",
    "import matplotlib.pyplot as plt\n",
    "import seaborn as sns\n",
    "%matplotlib inline\n",
    "\n",
    "matplotlib.rcParams['axes.unicode_minus'] = False"
   ],
   "metadata": {
    "collapsed": false,
    "pycharm": {
     "name": "#%%\n"
    }
   }
  },
  {
   "cell_type": "code",
   "execution_count": 8,
   "outputs": [
    {
     "data": {
      "text/plain": "Index(['ID', 'COMPONENT_ARBITRARY', 'ANONYMOUS_1', 'YEAR', 'ANONYMOUS_2', 'AG',\n       'CO', 'CR', 'CU', 'FE', 'H2O', 'MN', 'MO', 'NI', 'PQINDEX', 'TI', 'V',\n       'V40', 'ZN', 'Y_LABEL'],\n      dtype='object')"
     },
     "execution_count": 8,
     "metadata": {},
     "output_type": "execute_result"
    }
   ],
   "source": [
    "eda_df.columns"
   ],
   "metadata": {
    "collapsed": false,
    "pycharm": {
     "name": "#%%\n"
    }
   }
  },
  {
   "cell_type": "code",
   "execution_count": 14,
   "outputs": [
    {
     "data": {
      "text/plain": "<Figure size 2500x1000 with 2 Axes>",
      "image/png": "[encoded data removed]"
     },
     "metadata": {},
     "output_type": "display_data"
    }
   ],
   "source": [
    "fig = plt.figure(figsize=(25,10))\n",
    "\n",
    "ax1 = plt.subplot(1,2,1)\n",
    "sns.histplot(eda_df['CR'],kde=True)\n",
    "\n",
    "ax2 = plt.subplot(1,2,2)\n",
    "sns.boxplot(eda_df['CR'])\n",
    "\n",
    "plt.show()"
   ],
   "metadata": {
    "collapsed": false,
    "pycharm": {
     "name": "#%%\n"
    }
   }
  },
  {
   "cell_type": "markdown",
   "source": [
    "## 2. 데이터 전처리"
   ],
   "metadata": {
    "collapsed": false,
    "pycharm": {
     "name": "#%% md\n"
    }
   }
  },
  {
   "cell_type": "markdown",
   "source": [
    "### 피쳐 정규화"
   ],
   "metadata": {
    "collapsed": false,
    "pycharm": {
     "name": "#%% md\n"
    }
   }
  },
  {
   "cell_type": "code",
   "execution_count": 15,
   "outputs": [],
   "source": [
    "train_col = ['ANONYMOUS_1', 'ANONYMOUS_2', 'AG','CO', 'CR', 'CU', 'FE', 'H2O', 'MN', 'MO', 'NI', 'PQINDEX', 'TI', 'V','V40', 'ZN']\n",
    "final_train = eda_df[train_col]\n",
    "final_y = eda_df['Y_LABEL']"
   ],
   "metadata": {
    "collapsed": false,
    "pycharm": {
     "name": "#%%\n"
    }
   }
  },
  {
   "cell_type": "code",
   "execution_count": 17,
   "outputs": [
    {
     "data": {
      "text/plain": "array([[0.00165615, 0.        , 0.        , ..., 0.        , 0.05324922,\n        0.03517824],\n       [0.0011927 , 0.01851852, 0.        , ..., 0.        , 0.01448407,\n        0.30581614],\n       [0.00482193, 0.        , 0.        , ..., 0.        , 0.02456301,\n        0.19324578],\n       ...,\n       [0.00268529, 0.03703704, 0.        , ..., 0.        , 0.01800818,\n        0.61022514],\n       [0.00510477, 0.03703704, 0.        , ..., 0.        , 0.01458979,\n        0.30581614],\n       [0.00307377, 0.        , 0.        , ..., 0.        , 0.0155413 ,\n        0.28705441]])"
     },
     "execution_count": 17,
     "metadata": {},
     "output_type": "execute_result"
    }
   ],
   "source": [
    "from sklearn.preprocessing import MinMaxScaler\n",
    "scaler = MinMaxScaler()\n",
    "final_train_scaled = scaler.fit_transform(final_train)\n",
    "final_train_scaled"
   ],
   "metadata": {
    "collapsed": false,
    "pycharm": {
     "name": "#%%\n"
    }
   }
  },
  {
   "cell_type": "markdown",
   "source": [
    "### SMOTE"
   ],
   "metadata": {
    "collapsed": false,
    "pycharm": {
     "name": "#%% md\n"
    }
   }
  },
  {
   "cell_type": "code",
   "execution_count": 21,
   "outputs": [],
   "source": [
    "# from imblearn.over_sampling import SMOTE\n",
    "# sm = SMOTE()\n",
    "#\n",
    "# x_resampled, y_resampled = sm.fit_resample(final_train_scaled, final_y)\n",
    "# y_resampled"
   ],
   "metadata": {
    "collapsed": false,
    "pycharm": {
     "name": "#%%\n"
    }
   }
  },
  {
   "cell_type": "code",
   "execution_count": 50,
   "outputs": [
    {
     "data": {
      "text/plain": "array([0, 0, 1, ..., 1, 1, 1])"
     },
     "execution_count": 50,
     "metadata": {},
     "output_type": "execute_result"
    }
   ],
   "source": [
    "# from sklearn.preprocessing import LabelEncoder\n",
    "# le = LabelEncoder()\n",
    "# target_result = le.fit_transform(y_resampled)\n",
    "# target_result"
   ],
   "metadata": {
    "collapsed": false,
    "pycharm": {
     "name": "#%%\n"
    }
   }
  },
  {
   "cell_type": "markdown",
   "source": [
    "### Learning"
   ],
   "metadata": {
    "collapsed": false,
    "pycharm": {
     "name": "#%% md\n"
    }
   }
  },
  {
   "cell_type": "code",
   "execution_count": 29,
   "outputs": [],
   "source": [
    "from sklearn.model_selection import train_test_split, KFold, GridSearchCV\n",
    "from xgboost import XGBClassifier"
   ],
   "metadata": {
    "collapsed": false,
    "pycharm": {
     "name": "#%%\n"
    }
   }
  },
  {
   "cell_type": "code",
   "execution_count": 75,
   "outputs": [
    {
     "data": {
      "text/plain": "(14095, 16)"
     },
     "execution_count": 75,
     "metadata": {},
     "output_type": "execute_result"
    }
   ],
   "source": [
    "final_train_scaled.shape"
   ],
   "metadata": {
    "collapsed": false,
    "pycharm": {
     "name": "#%%\n"
    }
   }
  },
  {
   "cell_type": "code",
   "execution_count": 76,
   "outputs": [
    {
     "data": {
      "text/plain": "(14095,)"
     },
     "execution_count": 76,
     "metadata": {},
     "output_type": "execute_result"
    }
   ],
   "source": [
    "final_y.shape"
   ],
   "metadata": {
    "collapsed": false,
    "pycharm": {
     "name": "#%%\n"
    }
   }
  },
  {
   "cell_type": "code",
   "execution_count": 77,
   "outputs": [],
   "source": [
    "# x_train, x_val, y_train, y_val = train_test_split(x_resampled, y_resampled, test_size=0.2)\n",
    "x_train, x_val, y_train, y_val = train_test_split(final_train_scaled, final_y, test_size=0.2, stratify=final_y)"
   ],
   "metadata": {
    "collapsed": false,
    "pycharm": {
     "name": "#%%\n"
    }
   }
  },
  {
   "cell_type": "code",
   "execution_count": 78,
   "outputs": [
    {
     "data": {
      "text/plain": "12787    0\n11077    0\n7229     0\n4456     0\n13222    0\n        ..\n3395     0\n5255     0\n11511    0\n12879    0\n5212     0\nName: Y_LABEL, Length: 11276, dtype: int64"
     },
     "execution_count": 78,
     "metadata": {},
     "output_type": "execute_result"
    }
   ],
   "source": [
    "y_train"
   ],
   "metadata": {
    "collapsed": false,
    "pycharm": {
     "name": "#%%\n"
    }
   }
  },
  {
   "cell_type": "code",
   "execution_count": 79,
   "outputs": [
    {
     "name": "stdout",
     "output_type": "stream",
     "text": [
      "[23:43:55] WARNING: ../src/learner.cc:767: \n",
      "Parameters: { \"object\", \"silent\" } are not used.\n",
      "\n",
      "[0]\tvalidation_0-error:0.08549\n",
      "[1]\tvalidation_0-error:0.08549\n",
      "[2]\tvalidation_0-error:0.08549\n",
      "[3]\tvalidation_0-error:0.08549\n",
      "[4]\tvalidation_0-error:0.08549\n",
      "[5]\tvalidation_0-error:0.08549\n",
      "[6]\tvalidation_0-error:0.08549\n",
      "[7]\tvalidation_0-error:0.08549\n",
      "[8]\tvalidation_0-error:0.08549\n",
      "[9]\tvalidation_0-error:0.08549\n",
      "[10]\tvalidation_0-error:0.08549\n",
      "[11]\tvalidation_0-error:0.08549\n",
      "[12]\tvalidation_0-error:0.08549\n",
      "[13]\tvalidation_0-error:0.08549\n",
      "[14]\tvalidation_0-error:0.08549\n",
      "[15]\tvalidation_0-error:0.08549\n",
      "[16]\tvalidation_0-error:0.08549\n",
      "[17]\tvalidation_0-error:0.08549\n",
      "[18]\tvalidation_0-error:0.08549\n",
      "[19]\tvalidation_0-error:0.08549\n",
      "[20]\tvalidation_0-error:0.08549\n",
      "[21]\tvalidation_0-error:0.08549\n",
      "[22]\tvalidation_0-error:0.08549\n",
      "[23]\tvalidation_0-error:0.08549\n",
      "[24]\tvalidation_0-error:0.08549\n",
      "[25]\tvalidation_0-error:0.08549\n",
      "[26]\tvalidation_0-error:0.08549\n",
      "[27]\tvalidation_0-error:0.08549\n",
      "[28]\tvalidation_0-error:0.08549\n",
      "[29]\tvalidation_0-error:0.08549\n",
      "[30]\tvalidation_0-error:0.08549\n",
      "[31]\tvalidation_0-error:0.08549\n",
      "[32]\tvalidation_0-error:0.08549\n",
      "[33]\tvalidation_0-error:0.08549\n",
      "[34]\tvalidation_0-error:0.08549\n",
      "[35]\tvalidation_0-error:0.08549\n",
      "[36]\tvalidation_0-error:0.08549\n",
      "[37]\tvalidation_0-error:0.08549\n",
      "[38]\tvalidation_0-error:0.08549\n",
      "[39]\tvalidation_0-error:0.08549\n",
      "[40]\tvalidation_0-error:0.08549\n",
      "[41]\tvalidation_0-error:0.08549\n",
      "[42]\tvalidation_0-error:0.08549\n",
      "[43]\tvalidation_0-error:0.08549\n",
      "[44]\tvalidation_0-error:0.08549\n",
      "[45]\tvalidation_0-error:0.08549\n",
      "[46]\tvalidation_0-error:0.08549\n",
      "[47]\tvalidation_0-error:0.08549\n",
      "[48]\tvalidation_0-error:0.08549\n",
      "[49]\tvalidation_0-error:0.08549\n",
      "[50]\tvalidation_0-error:0.08549\n",
      "[51]\tvalidation_0-error:0.08549\n",
      "[52]\tvalidation_0-error:0.08549\n",
      "[53]\tvalidation_0-error:0.08549\n",
      "[54]\tvalidation_0-error:0.08549\n",
      "[55]\tvalidation_0-error:0.08549\n",
      "[56]\tvalidation_0-error:0.08549\n",
      "[57]\tvalidation_0-error:0.08549\n",
      "[58]\tvalidation_0-error:0.08549\n",
      "[59]\tvalidation_0-error:0.08549\n",
      "[60]\tvalidation_0-error:0.08549\n",
      "[61]\tvalidation_0-error:0.08549\n",
      "[62]\tvalidation_0-error:0.08549\n",
      "[63]\tvalidation_0-error:0.08549\n",
      "[64]\tvalidation_0-error:0.08549\n",
      "[65]\tvalidation_0-error:0.08549\n",
      "[66]\tvalidation_0-error:0.08549\n",
      "[67]\tvalidation_0-error:0.08549\n",
      "[68]\tvalidation_0-error:0.08549\n",
      "[69]\tvalidation_0-error:0.08549\n",
      "[70]\tvalidation_0-error:0.08549\n",
      "[71]\tvalidation_0-error:0.08549\n",
      "[72]\tvalidation_0-error:0.08549\n",
      "[73]\tvalidation_0-error:0.08549\n",
      "[74]\tvalidation_0-error:0.08549\n",
      "[75]\tvalidation_0-error:0.08549\n",
      "[76]\tvalidation_0-error:0.08549\n",
      "[77]\tvalidation_0-error:0.08549\n",
      "[78]\tvalidation_0-error:0.08549\n",
      "[79]\tvalidation_0-error:0.08549\n",
      "[80]\tvalidation_0-error:0.08549\n",
      "[81]\tvalidation_0-error:0.08549\n",
      "[82]\tvalidation_0-error:0.08549\n",
      "[83]\tvalidation_0-error:0.08549\n",
      "[84]\tvalidation_0-error:0.08549\n",
      "[85]\tvalidation_0-error:0.08549\n",
      "[86]\tvalidation_0-error:0.08514\n",
      "[87]\tvalidation_0-error:0.08549\n",
      "[88]\tvalidation_0-error:0.08514\n",
      "[89]\tvalidation_0-error:0.08514\n",
      "[90]\tvalidation_0-error:0.08514\n",
      "[91]\tvalidation_0-error:0.08514\n",
      "[92]\tvalidation_0-error:0.08514\n",
      "[93]\tvalidation_0-error:0.08514\n",
      "[94]\tvalidation_0-error:0.08514\n",
      "[95]\tvalidation_0-error:0.08514\n",
      "[96]\tvalidation_0-error:0.08514\n",
      "[97]\tvalidation_0-error:0.08514\n",
      "[98]\tvalidation_0-error:0.08514\n",
      "[99]\tvalidation_0-error:0.08514\n",
      "[100]\tvalidation_0-error:0.08549\n",
      "[101]\tvalidation_0-error:0.08549\n",
      "[102]\tvalidation_0-error:0.08514\n",
      "[103]\tvalidation_0-error:0.08514\n",
      "[104]\tvalidation_0-error:0.08514\n",
      "[105]\tvalidation_0-error:0.08549\n",
      "[106]\tvalidation_0-error:0.08514\n",
      "[107]\tvalidation_0-error:0.08514\n",
      "[108]\tvalidation_0-error:0.08514\n",
      "[109]\tvalidation_0-error:0.08514\n",
      "[110]\tvalidation_0-error:0.08514\n",
      "[111]\tvalidation_0-error:0.08514\n",
      "[112]\tvalidation_0-error:0.08514\n",
      "[113]\tvalidation_0-error:0.08514\n",
      "[114]\tvalidation_0-error:0.08514\n",
      "[115]\tvalidation_0-error:0.08514\n",
      "[116]\tvalidation_0-error:0.08514\n",
      "[117]\tvalidation_0-error:0.08514\n",
      "[118]\tvalidation_0-error:0.08514\n",
      "[119]\tvalidation_0-error:0.08514\n",
      "[120]\tvalidation_0-error:0.08514\n",
      "[121]\tvalidation_0-error:0.08514\n",
      "[122]\tvalidation_0-error:0.08514\n",
      "[123]\tvalidation_0-error:0.08514\n",
      "[124]\tvalidation_0-error:0.08514\n",
      "[125]\tvalidation_0-error:0.08514\n",
      "[126]\tvalidation_0-error:0.08514\n",
      "[127]\tvalidation_0-error:0.08514\n",
      "[128]\tvalidation_0-error:0.08514\n",
      "[129]\tvalidation_0-error:0.08514\n",
      "[130]\tvalidation_0-error:0.08514\n",
      "[131]\tvalidation_0-error:0.08514\n",
      "[132]\tvalidation_0-error:0.08514\n",
      "[133]\tvalidation_0-error:0.08549\n",
      "[134]\tvalidation_0-error:0.08514\n",
      "[135]\tvalidation_0-error:0.08514\n",
      "[136]\tvalidation_0-error:0.08514\n",
      "[137]\tvalidation_0-error:0.08514\n",
      "[138]\tvalidation_0-error:0.08549\n",
      "[139]\tvalidation_0-error:0.08549\n",
      "[140]\tvalidation_0-error:0.08549\n",
      "[141]\tvalidation_0-error:0.08549\n",
      "[142]\tvalidation_0-error:0.08549\n",
      "[143]\tvalidation_0-error:0.08549\n",
      "[144]\tvalidation_0-error:0.08549\n",
      "[145]\tvalidation_0-error:0.08549\n",
      "[146]\tvalidation_0-error:0.08549\n",
      "[147]\tvalidation_0-error:0.08549\n",
      "[148]\tvalidation_0-error:0.08549\n",
      "[149]\tvalidation_0-error:0.08549\n",
      "[150]\tvalidation_0-error:0.08549\n",
      "[151]\tvalidation_0-error:0.08549\n",
      "[152]\tvalidation_0-error:0.08549\n",
      "[153]\tvalidation_0-error:0.08549\n",
      "[154]\tvalidation_0-error:0.08549\n",
      "[155]\tvalidation_0-error:0.08549\n",
      "[156]\tvalidation_0-error:0.08549\n",
      "[157]\tvalidation_0-error:0.08549\n",
      "[158]\tvalidation_0-error:0.08549\n",
      "[159]\tvalidation_0-error:0.08549\n",
      "[160]\tvalidation_0-error:0.08549\n",
      "[161]\tvalidation_0-error:0.08549\n",
      "[162]\tvalidation_0-error:0.08549\n",
      "[163]\tvalidation_0-error:0.08549\n",
      "[164]\tvalidation_0-error:0.08549\n",
      "[165]\tvalidation_0-error:0.08549\n",
      "[166]\tvalidation_0-error:0.08549\n",
      "[167]\tvalidation_0-error:0.08549\n",
      "[168]\tvalidation_0-error:0.08549\n",
      "[169]\tvalidation_0-error:0.08549\n",
      "[170]\tvalidation_0-error:0.08549\n",
      "[171]\tvalidation_0-error:0.08549\n",
      "[172]\tvalidation_0-error:0.08549\n",
      "[173]\tvalidation_0-error:0.08549\n",
      "[174]\tvalidation_0-error:0.08549\n",
      "[175]\tvalidation_0-error:0.08549\n",
      "[176]\tvalidation_0-error:0.08549\n",
      "[177]\tvalidation_0-error:0.08549\n",
      "[178]\tvalidation_0-error:0.08549\n",
      "[179]\tvalidation_0-error:0.08549\n",
      "[180]\tvalidation_0-error:0.08549\n",
      "[181]\tvalidation_0-error:0.08549\n",
      "[182]\tvalidation_0-error:0.08549\n",
      "[183]\tvalidation_0-error:0.08549\n",
      "[184]\tvalidation_0-error:0.08549\n",
      "[185]\tvalidation_0-error:0.08549\n",
      "[186]\tvalidation_0-error:0.08549\n",
      "[187]\tvalidation_0-error:0.08549\n",
      "[188]\tvalidation_0-error:0.08585\n",
      "[189]\tvalidation_0-error:0.08585\n",
      "[190]\tvalidation_0-error:0.08585\n",
      "[191]\tvalidation_0-error:0.08585\n",
      "[192]\tvalidation_0-error:0.08585\n",
      "[193]\tvalidation_0-error:0.08549\n",
      "[194]\tvalidation_0-error:0.08549\n",
      "[195]\tvalidation_0-error:0.08549\n",
      "[196]\tvalidation_0-error:0.08549\n",
      "[197]\tvalidation_0-error:0.08549\n",
      "[198]\tvalidation_0-error:0.08549\n",
      "[199]\tvalidation_0-error:0.08549\n"
     ]
    },
    {
     "data": {
      "text/plain": "XGBClassifier(base_score=0.5, booster='gbtree', callbacks=None,\n              colsample_bylevel=0.9, colsample_bynode=1, colsample_bytree=0.8,\n              early_stopping_rounds=None, enable_categorical=False,\n              eval_metric='error', feature_types=None, gamma=0, gpu_id=-1,\n              grow_policy='depthwise', importance_type=None,\n              interaction_constraints='', learning_rate=0.05, max_bin=256,\n              max_cat_threshold=64, max_cat_to_onehot=4, max_delta_step=0,\n              max_depth=8, max_leaves=0, min_child_weight=10, missing=nan,\n              monotone_constraints='()', n_estimators=200, n_jobs=4, nthread=4,\n              num_parallel_tree=1, object='binary:logistic', ...)",
      "text/html": "<style>#sk-container-id-2 {color: black;background-color: white;}#sk-container-id-2 pre{padding: 0;}#sk-container-id-2 div.sk-toggleable {background-color: white;}#sk-container-id-2 label.sk-toggleable__label {cursor: pointer;display: block;width: 100%;margin-bottom: 0;padding: 0.3em;box-sizing: border-box;text-align: center;}#sk-container-id-2 label.sk-toggleable__label-arrow:before {content: \"▸\";float: left;margin-right: 0.25em;color: #696969;}#sk-container-id-2 label.sk-toggleable__label-arrow:hover:before {color: black;}#sk-container-id-2 div.sk-estimator:hover label.sk-toggleable__label-arrow:before {color: black;}#sk-container-id-2 div.sk-toggleable__content {max-height: 0;max-width: 0;overflow: hidden;text-align: left;background-color: #f0f8ff;}#sk-container-id-2 div.sk-toggleable__content pre {margin: 0.2em;color: black;border-radius: 0.25em;background-color: #f0f8ff;}#sk-container-id-2 input.sk-toggleable__control:checked~div.sk-toggleable__content {max-height: 200px;max-width: 100%;overflow: auto;}#sk-container-id-2 input.sk-toggleable__control:checked~label.sk-toggleable__label-arrow:before {content: \"▾\";}#sk-container-id-2 div.sk-estimator input.sk-toggleable__control:checked~label.sk-toggleable__label {background-color: #d4ebff;}#sk-container-id-2 div.sk-label input.sk-toggleable__control:checked~label.sk-toggleable__label {background-color: #d4ebff;}#sk-container-id-2 input.sk-hidden--visually {border: 0;clip: rect(1px 1px 1px 1px);clip: rect(1px, 1px, 1px, 1px);height: 1px;margin: -1px;overflow: hidden;padding: 0;position: absolute;width: 1px;}#sk-container-id-2 div.sk-estimator {font-family: monospace;background-color: #f0f8ff;border: 1px dotted black;border-radius: 0.25em;box-sizing: border-box;margin-bottom: 0.5em;}#sk-container-id-2 div.sk-estimator:hover {background-color: #d4ebff;}#sk-container-id-2 div.sk-parallel-item::after {content: \"\";width: 100%;border-bottom: 1px solid gray;flex-grow: 1;}#sk-container-id-2 div.sk-label:hover label.sk-toggleable__label {background-color: #d4ebff;}#sk-container-id-2 div.sk-serial::before {content: \"\";position: absolute;border-left: 1px solid gray;box-sizing: border-box;top: 0;bottom: 0;left: 50%;z-index: 0;}#sk-container-id-2 div.sk-serial {display: flex;flex-direction: column;align-items: center;background-color: white;padding-right: 0.2em;padding-left: 0.2em;position: relative;}#sk-container-id-2 div.sk-item {position: relative;z-index: 1;}#sk-container-id-2 div.sk-parallel {display: flex;align-items: stretch;justify-content: center;background-color: white;position: relative;}#sk-container-id-2 div.sk-item::before, #sk-container-id-2 div.sk-parallel-item::before {content: \"\";position: absolute;border-left: 1px solid gray;box-sizing: border-box;top: 0;bottom: 0;left: 50%;z-index: -1;}#sk-container-id-2 div.sk-parallel-item {display: flex;flex-direction: column;z-index: 1;position: relative;background-color: white;}#sk-container-id-2 div.sk-parallel-item:first-child::after {align-self: flex-end;width: 50%;}#sk-container-id-2 div.sk-parallel-item:last-child::after {align-self: flex-start;width: 50%;}#sk-container-id-2 div.sk-parallel-item:only-child::after {width: 0;}#sk-container-id-2 div.sk-dashed-wrapped {border: 1px dashed gray;margin: 0 0.4em 0.5em 0.4em;box-sizing: border-box;padding-bottom: 0.4em;background-color: white;}#sk-container-id-2 div.sk-label label {font-family: monospace;font-weight: bold;display: inline-block;line-height: 1.2em;}#sk-container-id-2 div.sk-label-container {text-align: center;}#sk-container-id-2 div.sk-container {/* jupyter's `normalize.less` sets `[hidden] { display: none; }` but bootstrap.min.css set `[hidden] { display: none !important; }` so we also need the `!important` here to be able to override the default hidden behavior on the sphinx rendered scikit-learn.org. See: https://github.com/scikit-learn/scikit-learn/issues/21755 */display: inline-block !important;position: relative;}#sk-container-id-2 div.sk-text-repr-fallback {display: none;}</style><div id=\"sk-container-id-2\" class=\"sk-top-container\"><div class=\"sk-text-repr-fallback\"><pre>XGBClassifier(base_score=0.5, booster=&#x27;gbtree&#x27;, callbacks=None,\n              colsample_bylevel=0.9, colsample_bynode=1, colsample_bytree=0.8,\n              early_stopping_rounds=None, enable_categorical=False,\n              eval_metric=&#x27;error&#x27;, feature_types=None, gamma=0, gpu_id=-1,\n              grow_policy=&#x27;depthwise&#x27;, importance_type=None,\n              interaction_constraints=&#x27;&#x27;, learning_rate=0.05, max_bin=256,\n              max_cat_threshold=64, max_cat_to_onehot=4, max_delta_step=0,\n              max_depth=8, max_leaves=0, min_child_weight=10, missing=nan,\n              monotone_constraints=&#x27;()&#x27;, n_estimators=200, n_jobs=4, nthread=4,\n              num_parallel_tree=1, object=&#x27;binary:logistic&#x27;, ...)</pre><b>In a Jupyter environment, please rerun this cell to show the HTML representation or trust the notebook. <br />On GitHub, the HTML representation is unable to render, please try loading this page with nbviewer.org.</b></div><div class=\"sk-container\" hidden><div class=\"sk-item\"><div class=\"sk-estimator sk-toggleable\"><input class=\"sk-toggleable__control sk-hidden--visually\" id=\"sk-estimator-id-2\" type=\"checkbox\" checked><label for=\"sk-estimator-id-2\" class=\"sk-toggleable__label sk-toggleable__label-arrow\">XGBClassifier</label><div class=\"sk-toggleable__content\"><pre>XGBClassifier(base_score=0.5, booster=&#x27;gbtree&#x27;, callbacks=None,\n              colsample_bylevel=0.9, colsample_bynode=1, colsample_bytree=0.8,\n              early_stopping_rounds=None, enable_categorical=False,\n              eval_metric=&#x27;error&#x27;, feature_types=None, gamma=0, gpu_id=-1,\n              grow_policy=&#x27;depthwise&#x27;, importance_type=None,\n              interaction_constraints=&#x27;&#x27;, learning_rate=0.05, max_bin=256,\n              max_cat_threshold=64, max_cat_to_onehot=4, max_delta_step=0,\n              max_depth=8, max_leaves=0, min_child_weight=10, missing=nan,\n              monotone_constraints=&#x27;()&#x27;, n_estimators=200, n_jobs=4, nthread=4,\n              num_parallel_tree=1, object=&#x27;binary:logistic&#x27;, ...)</pre></div></div></div></div></div>"
     },
     "execution_count": 79,
     "metadata": {},
     "output_type": "execute_result"
    }
   ],
   "source": [
    "xgb_model = XGBClassifier(booster='gbtree',\n",
    "                          silent=False,\n",
    "                          min_child_weight=10,\n",
    "                          max_depth=8,\n",
    "                          gamma=0,\n",
    "                          nthread=4,\n",
    "                          colsample_bytree=0.8,\n",
    "                          colsample_bylevel=0.9,\n",
    "                          n_estimators= 200,\n",
    "                          object='binary:logistic',\n",
    "                          eval_metric='error',\n",
    "                          learning_rate=0.05)\n",
    "\n",
    "\n",
    "xgb_model.fit(x_train, y_train, eval_set=[(x_val, y_val)])"
   ],
   "metadata": {
    "collapsed": false,
    "pycharm": {
     "name": "#%%\n"
    }
   }
  },
  {
   "cell_type": "code",
   "execution_count": 80,
   "outputs": [
    {
     "data": {
      "text/plain": "             ID COMPONENT_ARBITRARY  ANONYMOUS_1  YEAR  ANONYMOUS_2  AG  CO  \\\n0     TEST_0000          COMPONENT1         2192  2016          200   0   0   \n1     TEST_0001          COMPONENT3         2794  2011          200   0   0   \n2     TEST_0002          COMPONENT2         1982  2010          200   0   0   \n3     TEST_0003          COMPONENT3         1404  2009          200   0   0   \n4     TEST_0004          COMPONENT2         8225  2013          200   0   0   \n...         ...                 ...          ...   ...          ...  ..  ..   \n6036  TEST_6036          COMPONENT3         1714  2014          200   0   0   \n6037  TEST_6037          COMPONENT3         4131  2016          200   0   0   \n6038  TEST_6038          COMPONENT3         4325  2014          200   0   0   \n6039  TEST_6039          COMPONENT2         1364  2013          200   0   0   \n6040  TEST_6040          COMPONENT1         2397  2016         1597   1   0   \n\n      CR   CU    FE  H2O  MN  MO  NI  PQINDEX  TI  V    V40    ZN  \n0      0    1    12  0.0   0   0   0       10   0  0   91.3  1091  \n1      2    1   278  0.0   3   0   0     2732   1  0  126.9    12  \n2      0   16     5  0.0   0   0   0       11   0  0   44.3   714  \n3      3    4   163  0.0   4   3   0     8007   0  0  142.8    94  \n4      0    6    13  0.0   0   0   0       16   0  0   63.4   469  \n...   ..  ...   ...  ...  ..  ..  ..      ...  .. ..    ...   ...  \n6036   3  130  1047  0.0  65   5   2     1999   0  0   71.2  1163  \n6037   5    2   736  0.0   5   0   0      693   0  0  137.8    13  \n6038   0    0    53  0.0   0   0   0       69   0  0  302.2    13  \n6039   0   62     2  0.0   0   0   0        5   0  0   51.1   478  \n6040   0    0     4  0.0   0   2   0       14   0  0   80.0   970  \n\n[6041 rows x 19 columns]",
      "text/html": "<div>\n<style scoped>\n    .dataframe tbody tr th:only-of-type {\n        vertical-align: middle;\n    }\n\n    .dataframe tbody tr th {\n        vertical-align: top;\n    }\n\n    .dataframe thead th {\n        text-align: right;\n    }\n</style>\n<table border=\"1\" class=\"dataframe\">\n  <thead>\n    <tr style=\"text-align: right;\">\n      <th></th>\n      <th>ID</th>\n      <th>COMPONENT_ARBITRARY</th>\n      <th>ANONYMOUS_1</th>\n      <th>YEAR</th>\n      <th>ANONYMOUS_2</th>\n      <th>AG</th>\n      <th>CO</th>\n      <th>CR</th>\n      <th>CU</th>\n      <th>FE</th>\n      <th>H2O</th>\n      <th>MN</th>\n      <th>MO</th>\n      <th>NI</th>\n      <th>PQINDEX</th>\n      <th>TI</th>\n      <th>V</th>\n      <th>V40</th>\n      <th>ZN</th>\n    </tr>\n  </thead>\n  <tbody>\n    <tr>\n      <th>0</th>\n      <td>TEST_0000</td>\n      <td>COMPONENT1</td>\n      <td>2192</td>\n      <td>2016</td>\n      <td>200</td>\n      <td>0</td>\n      <td>0</td>\n      <td>0</td>\n      <td>1</td>\n      <td>12</td>\n      <td>0.0</td>\n      <td>0</td>\n      <td>0</td>\n      <td>0</td>\n      <td>10</td>\n      <td>0</td>\n      <td>0</td>\n      <td>91.3</td>\n      <td>1091</td>\n    </tr>\n    <tr>\n      <th>1</th>\n      <td>TEST_0001</td>\n      <td>COMPONENT3</td>\n      <td>2794</td>\n      <td>2011</td>\n      <td>200</td>\n      <td>0</td>\n      <td>0</td>\n      <td>2</td>\n      <td>1</td>\n      <td>278</td>\n      <td>0.0</td>\n      <td>3</td>\n      <td>0</td>\n      <td>0</td>\n      <td>2732</td>\n      <td>1</td>\n      <td>0</td>\n      <td>126.9</td>\n      <td>12</td>\n    </tr>\n    <tr>\n      <th>2</th>\n      <td>TEST_0002</td>\n      <td>COMPONENT2</td>\n      <td>1982</td>\n      <td>2010</td>\n      <td>200</td>\n      <td>0</td>\n      <td>0</td>\n      <td>0</td>\n      <td>16</td>\n      <td>5</td>\n      <td>0.0</td>\n      <td>0</td>\n      <td>0</td>\n      <td>0</td>\n      <td>11</td>\n      <td>0</td>\n      <td>0</td>\n      <td>44.3</td>\n      <td>714</td>\n    </tr>\n    <tr>\n      <th>3</th>\n      <td>TEST_0003</td>\n      <td>COMPONENT3</td>\n      <td>1404</td>\n      <td>2009</td>\n      <td>200</td>\n      <td>0</td>\n      <td>0</td>\n      <td>3</td>\n      <td>4</td>\n      <td>163</td>\n      <td>0.0</td>\n      <td>4</td>\n      <td>3</td>\n      <td>0</td>\n      <td>8007</td>\n      <td>0</td>\n      <td>0</td>\n      <td>142.8</td>\n      <td>94</td>\n    </tr>\n    <tr>\n      <th>4</th>\n      <td>TEST_0004</td>\n      <td>COMPONENT2</td>\n      <td>8225</td>\n      <td>2013</td>\n      <td>200</td>\n      <td>0</td>\n      <td>0</td>\n      <td>0</td>\n      <td>6</td>\n      <td>13</td>\n      <td>0.0</td>\n      <td>0</td>\n      <td>0</td>\n      <td>0</td>\n      <td>16</td>\n      <td>0</td>\n      <td>0</td>\n      <td>63.4</td>\n      <td>469</td>\n    </tr>\n    <tr>\n      <th>...</th>\n      <td>...</td>\n      <td>...</td>\n      <td>...</td>\n      <td>...</td>\n      <td>...</td>\n      <td>...</td>\n      <td>...</td>\n      <td>...</td>\n      <td>...</td>\n      <td>...</td>\n      <td>...</td>\n      <td>...</td>\n      <td>...</td>\n      <td>...</td>\n      <td>...</td>\n      <td>...</td>\n      <td>...</td>\n      <td>...</td>\n      <td>...</td>\n    </tr>\n    <tr>\n      <th>6036</th>\n      <td>TEST_6036</td>\n      <td>COMPONENT3</td>\n      <td>1714</td>\n      <td>2014</td>\n      <td>200</td>\n      <td>0</td>\n      <td>0</td>\n      <td>3</td>\n      <td>130</td>\n      <td>1047</td>\n      <td>0.0</td>\n      <td>65</td>\n      <td>5</td>\n      <td>2</td>\n      <td>1999</td>\n      <td>0</td>\n      <td>0</td>\n      <td>71.2</td>\n      <td>1163</td>\n    </tr>\n    <tr>\n      <th>6037</th>\n      <td>TEST_6037</td>\n      <td>COMPONENT3</td>\n      <td>4131</td>\n      <td>2016</td>\n      <td>200</td>\n      <td>0</td>\n      <td>0</td>\n      <td>5</td>\n      <td>2</td>\n      <td>736</td>\n      <td>0.0</td>\n      <td>5</td>\n      <td>0</td>\n      <td>0</td>\n      <td>693</td>\n      <td>0</td>\n      <td>0</td>\n      <td>137.8</td>\n      <td>13</td>\n    </tr>\n    <tr>\n      <th>6038</th>\n      <td>TEST_6038</td>\n      <td>COMPONENT3</td>\n      <td>4325</td>\n      <td>2014</td>\n      <td>200</td>\n      <td>0</td>\n      <td>0</td>\n      <td>0</td>\n      <td>0</td>\n      <td>53</td>\n      <td>0.0</td>\n      <td>0</td>\n      <td>0</td>\n      <td>0</td>\n      <td>69</td>\n      <td>0</td>\n      <td>0</td>\n      <td>302.2</td>\n      <td>13</td>\n    </tr>\n    <tr>\n      <th>6039</th>\n      <td>TEST_6039</td>\n      <td>COMPONENT2</td>\n      <td>1364</td>\n      <td>2013</td>\n      <td>200</td>\n      <td>0</td>\n      <td>0</td>\n      <td>0</td>\n      <td>62</td>\n      <td>2</td>\n      <td>0.0</td>\n      <td>0</td>\n      <td>0</td>\n      <td>0</td>\n      <td>5</td>\n      <td>0</td>\n      <td>0</td>\n      <td>51.1</td>\n      <td>478</td>\n    </tr>\n    <tr>\n      <th>6040</th>\n      <td>TEST_6040</td>\n      <td>COMPONENT1</td>\n      <td>2397</td>\n      <td>2016</td>\n      <td>1597</td>\n      <td>1</td>\n      <td>0</td>\n      <td>0</td>\n      <td>0</td>\n      <td>4</td>\n      <td>0.0</td>\n      <td>0</td>\n      <td>2</td>\n      <td>0</td>\n      <td>14</td>\n      <td>0</td>\n      <td>0</td>\n      <td>80.0</td>\n      <td>970</td>\n    </tr>\n  </tbody>\n</table>\n<p>6041 rows × 19 columns</p>\n</div>"
     },
     "execution_count": 80,
     "metadata": {},
     "output_type": "execute_result"
    }
   ],
   "source": [
    "test_df = pd.read_csv('dataset/test.csv')\n",
    "test_df"
   ],
   "metadata": {
    "collapsed": false,
    "pycharm": {
     "name": "#%%\n"
    }
   }
  },
  {
   "cell_type": "code",
   "execution_count": 81,
   "outputs": [
    {
     "data": {
      "text/plain": "array([[0.00499644, 0.        , 0.        , ..., 0.        , 0.19811066,\n        0.56447437],\n       [0.00751981, 0.        , 0.        , ..., 0.        , 0.29419703,\n        0.00569653],\n       [0.00411619, 0.        , 0.        , ..., 0.        , 0.07125506,\n        0.36923874],\n       ...,\n       [0.01393721, 0.        , 0.        , ..., 0.        , 0.76734143,\n        0.0062144 ],\n       [0.00152576, 0.        , 0.        , ..., 0.        , 0.08960864,\n        0.24702227],\n       [0.00585572, 0.14783069, 0.5       , ..., 0.        , 0.16761134,\n        0.50181253]])"
     },
     "execution_count": 81,
     "metadata": {},
     "output_type": "execute_result"
    }
   ],
   "source": [
    "test_final = test_df[train_col]\n",
    "final_test_scaled = scaler.fit_transform(test_final)\n",
    "final_test_scaled"
   ],
   "metadata": {
    "collapsed": false,
    "pycharm": {
     "name": "#%%\n"
    }
   }
  },
  {
   "cell_type": "code",
   "execution_count": 82,
   "outputs": [],
   "source": [
    "y_pred = xgb_model.predict(final_test_scaled)"
   ],
   "metadata": {
    "collapsed": false,
    "pycharm": {
     "name": "#%%\n"
    }
   }
  },
  {
   "cell_type": "code",
   "execution_count": 83,
   "outputs": [
    {
     "data": {
      "text/plain": "array([0, 0, 0, ..., 0, 0, 0])"
     },
     "execution_count": 83,
     "metadata": {},
     "output_type": "execute_result"
    }
   ],
   "source": [
    "y_pred"
   ],
   "metadata": {
    "collapsed": false,
    "pycharm": {
     "name": "#%%\n"
    }
   }
  },
  {
   "cell_type": "code",
   "execution_count": 84,
   "outputs": [
    {
     "data": {
      "text/plain": "             ID  Y_LABEL\n0     TEST_0000        1\n1     TEST_0001        1\n2     TEST_0002        0\n3     TEST_0003        1\n4     TEST_0004        1\n...         ...      ...\n6036  TEST_6036        1\n6037  TEST_6037        1\n6038  TEST_6038        0\n6039  TEST_6039        1\n6040  TEST_6040        1\n\n[6041 rows x 2 columns]",
      "text/html": "<div>\n<style scoped>\n    .dataframe tbody tr th:only-of-type {\n        vertical-align: middle;\n    }\n\n    .dataframe tbody tr th {\n        vertical-align: top;\n    }\n\n    .dataframe thead th {\n        text-align: right;\n    }\n</style>\n<table border=\"1\" class=\"dataframe\">\n  <thead>\n    <tr style=\"text-align: right;\">\n      <th></th>\n      <th>ID</th>\n      <th>Y_LABEL</th>\n    </tr>\n  </thead>\n  <tbody>\n    <tr>\n      <th>0</th>\n      <td>TEST_0000</td>\n      <td>1</td>\n    </tr>\n    <tr>\n      <th>1</th>\n      <td>TEST_0001</td>\n      <td>1</td>\n    </tr>\n    <tr>\n      <th>2</th>\n      <td>TEST_0002</td>\n      <td>0</td>\n    </tr>\n    <tr>\n      <th>3</th>\n      <td>TEST_0003</td>\n      <td>1</td>\n    </tr>\n    <tr>\n      <th>4</th>\n      <td>TEST_0004</td>\n      <td>1</td>\n    </tr>\n    <tr>\n      <th>...</th>\n      <td>...</td>\n      <td>...</td>\n    </tr>\n    <tr>\n      <th>6036</th>\n      <td>TEST_6036</td>\n      <td>1</td>\n    </tr>\n    <tr>\n      <th>6037</th>\n      <td>TEST_6037</td>\n      <td>1</td>\n    </tr>\n    <tr>\n      <th>6038</th>\n      <td>TEST_6038</td>\n      <td>0</td>\n    </tr>\n    <tr>\n      <th>6039</th>\n      <td>TEST_6039</td>\n      <td>1</td>\n    </tr>\n    <tr>\n      <th>6040</th>\n      <td>TEST_6040</td>\n      <td>1</td>\n    </tr>\n  </tbody>\n</table>\n<p>6041 rows × 2 columns</p>\n</div>"
     },
     "execution_count": 84,
     "metadata": {},
     "output_type": "execute_result"
    }
   ],
   "source": [
    "submit = pd.read_csv('dataset/submit.csv')\n",
    "submit"
   ],
   "metadata": {
    "collapsed": false,
    "pycharm": {
     "name": "#%%\n"
    }
   }
  },
  {
   "cell_type": "code",
   "execution_count": 85,
   "outputs": [],
   "source": [
    "submit['Y_LABEL'] = y_pred"
   ],
   "metadata": {
    "collapsed": false,
    "pycharm": {
     "name": "#%%\n"
    }
   }
  },
  {
   "cell_type": "code",
   "execution_count": 86,
   "outputs": [
    {
     "data": {
      "text/plain": "0    6026\n1      15\nName: Y_LABEL, dtype: int64"
     },
     "execution_count": 86,
     "metadata": {},
     "output_type": "execute_result"
    }
   ],
   "source": [
    "submit['Y_LABEL'].value_counts()"
   ],
   "metadata": {
    "collapsed": false,
    "pycharm": {
     "name": "#%%\n"
    }
   }
  },
  {
   "cell_type": "code",
   "execution_count": 88,
   "outputs": [],
   "source": [
    "submit.to_csv('dataset/submit.csv', index=False)"
   ],
   "metadata": {
    "collapsed": false,
    "pycharm": {
     "name": "#%%\n"
    }
   }
  }
 ],
 "metadata": {
  "kernelspec": {
   "display_name": "Python 3",
   "language": "python",
   "name": "python3"
  },
  "language_info": {
   "codemirror_mode": {
    "name": "ipython",
    "version": 2
   },
   "file_extension": ".py",
   "mimetype": "text/x-python",
   "name": "python",
   "nbconvert_exporter": "python",
   "pygments_lexer": "ipython2",
   "version": "2.7.6"
  }
 },
 "nbformat": 4,
 "nbformat_minor": 0
}